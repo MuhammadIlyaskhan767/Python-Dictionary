{
 "cells": [
  {
   "cell_type": "markdown",
   "id": "cf8398a3",
   "metadata": {},
   "source": [
    "# Python Dictionaries\n",
    "Dictionaries are used to store data values in key:value pairs.Dictionaries are created by enclosing a comma-separated list of key-value pairs in curly braces { }."
   ]
  },
  {
   "cell_type": "code",
   "execution_count": 53,
   "id": "26ea91b5",
   "metadata": {},
   "outputs": [
    {
     "name": "stdout",
     "output_type": "stream",
     "text": [
      "{'Name': 'Ali', 'Age': 21, 'Hieght': 6, 'Weight': 68, 'City': 'Peshawar', 'Religion': 'Muslim'}\n"
     ]
    }
   ],
   "source": [
    "# Create a dictionary of boy details\n",
    "boy = {'Name': 'Ali', 'Age': 21, 'Hieght': 6, 'Weight': 68, 'City': 'Peshawar', 'Religion': 'Muslim'}\n",
    "print(boy)"
   ]
  },
  {
   "cell_type": "markdown",
   "id": "25d5f84c",
   "metadata": {},
   "source": [
    "## Dictionary Items\n",
    "Dictionary items are ordered, muteable(changeable), and does not allow duplicates."
   ]
  },
  {
   "cell_type": "code",
   "execution_count": 54,
   "id": "efca4ace",
   "metadata": {},
   "outputs": [
    {
     "name": "stdout",
     "output_type": "stream",
     "text": [
      "{'Name': 'Ali', 'Age': 21, 'Hieght': 6, 'Weight': 68, 'City': 'Peshawar', 'Religion': 'Muslim'}\n"
     ]
    }
   ],
   "source": [
    "# Create a dictionary to show dictionary items are ordered and can not allow duplicate\n",
    "boy = {'Name': 'Ali', 'Age': 21, 'Hieght': 6, 'Weight': 68, 'City': 'Islamabad', 'City': 'Peshawar', 'Religion': 'Muslim'}\n",
    "print(boy)"
   ]
  },
  {
   "cell_type": "code",
   "execution_count": 55,
   "id": "01c1c7a6",
   "metadata": {},
   "outputs": [
    {
     "name": "stdout",
     "output_type": "stream",
     "text": [
      "{'Name': 'Ali', 'Age': 23, 'Hieght': 6, 'Weight': 68, 'City': 'Peshawar', 'Religion': 'Muslim'}\n"
     ]
    }
   ],
   "source": [
    "# change the value in the dictionary\n",
    "boy['Age'] = 23\n",
    "\n",
    "print(boy)"
   ]
  },
  {
   "cell_type": "code",
   "execution_count": 56,
   "id": "7e81d0b1",
   "metadata": {},
   "outputs": [
    {
     "name": "stdout",
     "output_type": "stream",
     "text": [
      "{'Name': 'Ali', 'Age': 22, 'Hieght': 6, 'Weight': 68, 'City': 'Peshawar', 'Religion': 'Muslim'}\n"
     ]
    }
   ],
   "source": [
    "# The update() method is also used to change the the value in the dictionary\n",
    "boy.update({'Age': 22})\n",
    "\n",
    "print(boy)"
   ]
  },
  {
   "cell_type": "markdown",
   "id": "f811b6c4",
   "metadata": {},
   "source": [
    "## Dictionary Length"
   ]
  },
  {
   "cell_type": "code",
   "execution_count": 57,
   "id": "ecbd955d",
   "metadata": {},
   "outputs": [
    {
     "name": "stdout",
     "output_type": "stream",
     "text": [
      "6\n"
     ]
    }
   ],
   "source": [
    "# To determine how many items dictionary have, use the len() function\n",
    "print(len(boy))"
   ]
  },
  {
   "cell_type": "markdown",
   "id": "3aa19d1e",
   "metadata": {},
   "source": [
    "## Accessing dictionary Items"
   ]
  },
  {
   "cell_type": "code",
   "execution_count": 58,
   "id": "8e1d531a",
   "metadata": {},
   "outputs": [
    {
     "name": "stdout",
     "output_type": "stream",
     "text": [
      "Peshawar\n"
     ]
    }
   ],
   "source": [
    "# Access the items of a dictionary by referring to its key name, inside square brackets\n",
    "boy = {'Name': 'Ali', 'Age': 21, 'Hieght': 6, 'Weight': 68, 'City': 'Islamabad', 'City': 'Peshawar', 'Religion': 'Muslim'}\n",
    "\n",
    "# Access the city\n",
    "city = boy['City']\n",
    "print(city)"
   ]
  },
  {
   "cell_type": "code",
   "execution_count": 59,
   "id": "df65bc4b",
   "metadata": {},
   "outputs": [
    {
     "name": "stdout",
     "output_type": "stream",
     "text": [
      "Muslim\n"
     ]
    }
   ],
   "source": [
    "# There is also a method called get() that will give you the same result\n",
    "religion = boy.get('Religion')\n",
    "print(religion)"
   ]
  },
  {
   "cell_type": "markdown",
   "id": "67b423a4",
   "metadata": {},
   "source": [
    "# Add Dictionary Items"
   ]
  },
  {
   "cell_type": "code",
   "execution_count": 60,
   "id": "d173508d",
   "metadata": {},
   "outputs": [
    {
     "name": "stdout",
     "output_type": "stream",
     "text": [
      "{'Name': 'Ali', 'Age': 21, 'Hight': 6.3, 'Weight': 68, 'City': 'Peshawar', 'Religion': 'Muslim'}\n"
     ]
    }
   ],
   "source": [
    "# Adding an item to the dictionary is done by using a new index key and assigning a value to it\n",
    "boy = {'Name': 'Ali', 'Age': 21, 'Hight': 6.3, 'Weight': 68, 'City': 'Islamabad', 'City': 'Peshawar'}\n",
    "\n",
    "# add religion to the dictionary\n",
    "boy['Religion'] = 'Muslim'                   # This will add the 'Religion' key-value pair to the end of the dictionary\n",
    "\n",
    "print(boy)"
   ]
  },
  {
   "cell_type": "markdown",
   "id": "5c875d57",
   "metadata": {},
   "source": [
    "# Python Dictionary Methods"
   ]
  },
  {
   "cell_type": "markdown",
   "id": "2aeea6c0",
   "metadata": {},
   "source": [
    "## 1.Update"
   ]
  },
  {
   "cell_type": "code",
   "execution_count": 61,
   "id": "3374561d",
   "metadata": {},
   "outputs": [
    {
     "name": "stdout",
     "output_type": "stream",
     "text": [
      "{'Name': 'Ali', 'Age': 21, 'Hight': 6.3, 'Weight': 68, 'City': 'Peshawar', 'Religion': 'Muslim'}\n"
     ]
    }
   ],
   "source": [
    "# The update() method will update the dictionary with the items from a given argument. If the item does not exist, the item will be added to the dictionary.\n",
    "boy = {'Name': 'Ali', 'Age': 21, 'Hight': 6.3, 'Weight': 68, 'City': 'Islamabad', 'City': 'Peshawar'}\n",
    "\n",
    "# Updated the dictionary with the Religion as key and Muslim as value\n",
    "boy.update({'Religion': 'Muslim'})\n",
    "\n",
    "print(boy)"
   ]
  },
  {
   "cell_type": "markdown",
   "id": "31a548a3",
   "metadata": {},
   "source": [
    "# Remove Dictionary Items"
   ]
  },
  {
   "cell_type": "markdown",
   "id": "0ff2c3eb",
   "metadata": {},
   "source": [
    "## Del"
   ]
  },
  {
   "cell_type": "code",
   "execution_count": 62,
   "id": "4ceaa4bf",
   "metadata": {},
   "outputs": [
    {
     "name": "stdout",
     "output_type": "stream",
     "text": [
      "{'Name': 'Ali', 'Age': 21, 'Weight': 68, 'City': 'Peshawar', 'Religion': 'Muslim'}\n"
     ]
    }
   ],
   "source": [
    "# The del keyword removes the item with the specified key name\n",
    "boy = {'Name': 'Ali', 'Age': 21, 'Hieght': 6, 'Weight': 68, 'City': 'Peshawar', 'Religion': 'Muslim'}\n",
    "\n",
    "# delete any item from the dictionary\n",
    "del boy['Hieght']\n",
    "\n",
    "print(boy)"
   ]
  },
  {
   "cell_type": "code",
   "execution_count": 63,
   "id": "6d9b0471",
   "metadata": {},
   "outputs": [
    {
     "ename": "NameError",
     "evalue": "name 'boy' is not defined",
     "output_type": "error",
     "traceback": [
      "\u001b[1;31m---------------------------------------------------------------------------\u001b[0m",
      "\u001b[1;31mNameError\u001b[0m                                 Traceback (most recent call last)",
      "Cell \u001b[1;32mIn[63], line 7\u001b[0m\n\u001b[0;32m      4\u001b[0m \u001b[38;5;66;03m# delete the dictionary\u001b[39;00m\n\u001b[0;32m      5\u001b[0m \u001b[38;5;28;01mdel\u001b[39;00m boy\n\u001b[1;32m----> 7\u001b[0m \u001b[38;5;28mprint\u001b[39m(boy)\n",
      "\u001b[1;31mNameError\u001b[0m: name 'boy' is not defined"
     ]
    }
   ],
   "source": [
    "# The del keyword can also delete the dictionary completely\n",
    "boy = {'Name': 'Ali', 'Age': 21, 'Hieght': 6, 'Weight': 68, 'City': 'Peshawar', 'Religion': 'Muslim'}\n",
    "\n",
    "# delete the dictionary\n",
    "del boy\n",
    "\n",
    "print(boy)                       # This will cause an error because the dictionary boy no longer exists"
   ]
  },
  {
   "cell_type": "markdown",
   "id": "c24fefa8",
   "metadata": {},
   "source": [
    "## 2. Pop"
   ]
  },
  {
   "cell_type": "code",
   "execution_count": 64,
   "id": "bd09e723",
   "metadata": {},
   "outputs": [
    {
     "name": "stdout",
     "output_type": "stream",
     "text": [
      "{'Name': 'Ali', 'Age': 21, 'Hieght': 6, 'City': 'Peshawar', 'Religion': 'Muslim'}\n"
     ]
    }
   ],
   "source": [
    "# the pop() method removes the item with the specified key name\n",
    "boy = {'Name': 'Ali', 'Age': 21, 'Hieght': 6, 'Weight': 68, 'City': 'Peshawar', 'Religion': 'Muslim'}\n",
    "\n",
    "# remove any item from the dictionary\n",
    "boy.pop('Weight')\n",
    "\n",
    "print(boy)"
   ]
  },
  {
   "cell_type": "markdown",
   "id": "579ebe54",
   "metadata": {},
   "source": [
    "## 3. Popitem"
   ]
  },
  {
   "cell_type": "code",
   "execution_count": 65,
   "id": "97aa0b54",
   "metadata": {},
   "outputs": [
    {
     "name": "stdout",
     "output_type": "stream",
     "text": [
      "{'Name': 'Ali', 'Age': 21, 'Hieght': 6, 'Weight': 68, 'City': 'Peshawar'}\n"
     ]
    }
   ],
   "source": [
    "# The popitem() method removes the last inserted item\n",
    "boy = {'Name': 'Ali', 'Age': 21, 'Hieght': 6, 'Weight': 68, 'City': 'Peshawar', 'Religion': 'Muslim'}\n",
    "\n",
    "# remove the last item of the dictionary\n",
    "boy.popitem()\n",
    "\n",
    "print(boy)"
   ]
  },
  {
   "cell_type": "markdown",
   "id": "b6757d5c",
   "metadata": {},
   "source": [
    "## 4.Clear"
   ]
  },
  {
   "cell_type": "code",
   "execution_count": 66,
   "id": "bed90dfe",
   "metadata": {},
   "outputs": [
    {
     "name": "stdout",
     "output_type": "stream",
     "text": [
      "{}\n"
     ]
    }
   ],
   "source": [
    "# The clear() method empties the dictionary\n",
    "boy = {'Name': 'Ali', 'Age': 21, 'Hieght': 6, 'Weight': 68, 'City': 'Peshawar', 'Religion': 'Muslim'}\n",
    "\n",
    "# Empty the dictionary \n",
    "boy.clear()\n",
    "\n",
    "print(boy)"
   ]
  },
  {
   "cell_type": "markdown",
   "id": "d4f9b6b8",
   "metadata": {},
   "source": [
    "## 5. Copy"
   ]
  },
  {
   "cell_type": "code",
   "execution_count": 67,
   "id": "f6134e5a",
   "metadata": {},
   "outputs": [
    {
     "name": "stdout",
     "output_type": "stream",
     "text": [
      "{'Name': 'Ali', 'Age': 21, 'Hieght': 6, 'Weight': 68, 'City': 'Peshawar', 'Religion': 'Muslim'}\n"
     ]
    }
   ],
   "source": [
    "# The copy() method returns a copy of the specified dictionary\n",
    "boy = {'Name': 'Ali', 'Age': 21, 'Hieght': 6, 'Weight': 68, 'City': 'Peshawar', 'Religion': 'Muslim'}\n",
    "\n",
    "# copy the boy dictionary\n",
    "boy_new = boy.copy()\n",
    "\n",
    "print(boy_new)"
   ]
  },
  {
   "cell_type": "markdown",
   "id": "9666388b",
   "metadata": {},
   "source": [
    "## 6. Get"
   ]
  },
  {
   "cell_type": "code",
   "execution_count": 68,
   "id": "c20dd701",
   "metadata": {},
   "outputs": [
    {
     "name": "stdout",
     "output_type": "stream",
     "text": [
      "Peshawar\n"
     ]
    }
   ],
   "source": [
    "# The get() method returns the value of the item with the specified key\n",
    "boy = {'Name': 'Ali', 'Age': 21, 'Hieght': 6.7, 'Weight': 69, 'City': 'Peshawar', 'Religion': \"Muslim\"}\n",
    "\n",
    "# get the value of the item\n",
    "city = boy.get('City')\n",
    "\n",
    "print(city)"
   ]
  },
  {
   "cell_type": "code",
   "execution_count": 69,
   "id": "0f2aa633",
   "metadata": {},
   "outputs": [
    {
     "name": "stdout",
     "output_type": "stream",
     "text": [
      "Undergraduate\n"
     ]
    }
   ],
   "source": [
    "# Try to return the value of an item that do not exist\n",
    "education = boy.get('education','Undergraduate')\n",
    "\n",
    "print(education)"
   ]
  },
  {
   "cell_type": "markdown",
   "id": "52ffda4b",
   "metadata": {},
   "source": [
    "## 7. Keys"
   ]
  },
  {
   "cell_type": "code",
   "execution_count": 70,
   "id": "33750054",
   "metadata": {},
   "outputs": [
    {
     "name": "stdout",
     "output_type": "stream",
     "text": [
      "dict_keys(['Name', 'Age', 'Hieght', 'Weight', 'City', 'Religion'])\n"
     ]
    }
   ],
   "source": [
    "# The keys() method returns the keys of the dictionary as a list\n",
    "boy = {'Name': 'Ali', 'Age': 21, 'Hieght': 6.7, 'Weight': 69, 'City': 'Peshawar', 'Religion': \"Muslim\"}\n",
    "\n",
    "# Get the keys of the dictionary\n",
    "dict_keys = boy.keys()\n",
    "\n",
    "print(dict_keys)"
   ]
  },
  {
   "cell_type": "markdown",
   "id": "60e2f702",
   "metadata": {},
   "source": [
    "## 8. Values"
   ]
  },
  {
   "cell_type": "code",
   "execution_count": 71,
   "id": "3f6cb371",
   "metadata": {},
   "outputs": [
    {
     "name": "stdout",
     "output_type": "stream",
     "text": [
      "dict_values(['Ali', 21, 6.7, 69, 'Peshawar', 'Muslim'])\n"
     ]
    }
   ],
   "source": [
    "# The values() method returns the values of the dictionary as a list\n",
    "boy = {'Name': 'Ali', 'Age': 21, 'Hieght': 6.7, 'Weight': 69, 'City': 'Peshawar', 'Religion': \"Muslim\"}\n",
    "\n",
    "# Get the values of the dictionary\n",
    "dict_values = boy.values()\n",
    "\n",
    "print(dict_values)"
   ]
  },
  {
   "cell_type": "markdown",
   "id": "a3de600a",
   "metadata": {},
   "source": [
    "## 9.Items"
   ]
  },
  {
   "cell_type": "code",
   "execution_count": 72,
   "id": "21fb5551",
   "metadata": {},
   "outputs": [
    {
     "name": "stdout",
     "output_type": "stream",
     "text": [
      "dict_items([('Name', 'Ali'), ('Age', 21), ('Hieght', 6.7), ('Weight', 69), ('City', 'Peshawar'), ('Religion', 'Muslim')])\n"
     ]
    }
   ],
   "source": [
    "# The items() method returns the key-value pairs of the dictionary, as tuples in a list\n",
    "boy = {'Name': 'Ali', 'Age': 21, 'Hieght': 6.7, 'Weight': 69, 'City': 'Peshawar', 'Religion': \"Muslim\"}\n",
    "\n",
    "# Get the key-value pairs of the dictionary\n",
    "key_value_pairs = boy.items()\n",
    "\n",
    "print(key_value_pairs)"
   ]
  },
  {
   "cell_type": "markdown",
   "id": "0744a13f",
   "metadata": {},
   "source": [
    "## 10. Fromkeys\n",
    "In Python, the fromkeys() method is a method available on dictionary objects. It creates a new dictionary with keys from a given iterable (such as a list, tuple, or set) and assigns the same value to each key."
   ]
  },
  {
   "cell_type": "code",
   "execution_count": 73,
   "id": "c708d244",
   "metadata": {},
   "outputs": [
    {
     "name": "stdout",
     "output_type": "stream",
     "text": [
      "{'Name1': 'Ali', 'Name2': 'Ali', 'Name3': 'Ali', 'Name4': 'Ali'}\n"
     ]
    }
   ],
   "source": [
    "# The fromkeys() method returns a dictionary with the specified keys from an iterable (such as a list, tuple, or set) and assigns the specified value to each key\n",
    "keys = ('Name1', 'Name2', 'Name3', 'Name4')\n",
    "value = 'Ali'\n",
    "\n",
    "keys_value = dict.fromkeys(keys, value)\n",
    "\n",
    "print(keys_value)\n"
   ]
  },
  {
   "cell_type": "markdown",
   "id": "9b492646",
   "metadata": {},
   "source": [
    "## 11. Setdefault()\n",
    "In Python, the setdefault() method is a built-in dictionary method used to access a key in a dictionary. It checks if the key is present in the dictionary or not. If the key is present, it returns the corresponding value. If the key is not present, it inserts the key into the dictionary with a specified default value, and then returns that value."
   ]
  },
  {
   "cell_type": "code",
   "execution_count": 77,
   "id": "c8495e34",
   "metadata": {},
   "outputs": [
    {
     "name": "stdout",
     "output_type": "stream",
     "text": [
      "Ali\n"
     ]
    }
   ],
   "source": [
    "# The setdefault() method returns the value of the item with the specified key\n",
    "boy = {'Name': 'Ali', 'Age': 21, 'Hieght': 6.7, 'Weight': 69, 'City': 'Peshawar', 'Religion': \"Muslim\"}\n",
    "\n",
    "# Get the value with the specified key\n",
    "value_with_key = boy.setdefault('Name', 'Yousaf')\n",
    "\n",
    "print(value_with_key)"
   ]
  },
  {
   "cell_type": "markdown",
   "id": "46c01fdd",
   "metadata": {},
   "source": [
    "# Nested Dictionaries\n",
    "A dictionary can contain dictionaries, this is called nested dictionaries."
   ]
  },
  {
   "cell_type": "code",
   "execution_count": 81,
   "id": "91309679",
   "metadata": {},
   "outputs": [
    {
     "name": "stdout",
     "output_type": "stream",
     "text": [
      "{'boy1': {'Name': 'Ali', 'Age': 23, 'Hieght': 6.7, 'Weight': 69, 'City': 'Peshawar', 'Religion': 'Muslim'}, 'boy2': {'Name': 'Ahmad', 'Age': 21, 'Hieght': 6.5, 'Weight': 70, 'City': 'Peshawar', 'Religion': 'Muslim'}, 'boy3': {'Name': 'Abas', 'Age': 22, 'Hieght': 6.4, 'Weight': 72, 'City': 'Peshawar', 'Religion': 'Muslim'}}\n"
     ]
    }
   ],
   "source": [
    "# Create a dictionary that contain three dictionaries\n",
    "boys_details = {'boy1' : {'Name': 'Ali', 'Age': 23, 'Hieght': 6.7, 'Weight': 69, 'City': 'Peshawar', 'Religion': \"Muslim\"},\n",
    "              'boy2' : {'Name': 'Ahmad', 'Age': 21, 'Hieght': 6.5, 'Weight': 70, 'City': 'Peshawar', 'Religion': \"Muslim\"},\n",
    "              'boy3' : {'Name': 'Abas', 'Age': 22, 'Hieght': 6.4, 'Weight': 72, 'City': 'Peshawar', 'Religion': \"Muslim\"}}\n",
    "\n",
    "print(boys_details)"
   ]
  },
  {
   "cell_type": "code",
   "execution_count": 83,
   "id": "40c34516",
   "metadata": {},
   "outputs": [
    {
     "name": "stdout",
     "output_type": "stream",
     "text": [
      "{'boy1': ({'Name': 'Ali', 'Age': 23, 'Hieght': 6.7, 'Weight': 69, 'City': 'Peshawar', 'Religion': 'Muslim'},), 'boy2': ({'Name': 'Ahmad', 'Age': 21, 'Hieght': 6.5, 'Weight': 70, 'City': 'Peshawar', 'Religion': 'Muslim'},), 'boy3': {'Name': 'Abas', 'Age': 22, 'Hieght': 6.4, 'Weight': 72, 'City': 'Peshawar', 'Religion': 'Muslim'}}\n"
     ]
    }
   ],
   "source": [
    "# Create three dictionaries, then create one dictionary that will contain the other three dictionaries\n",
    "boy1 = {'Name': 'Ali', 'Age': 23, 'Hieght': 6.7, 'Weight': 69, 'City': 'Peshawar', 'Religion': \"Muslim\"},\n",
    "boy2 = {'Name': 'Ahmad', 'Age': 21, 'Hieght': 6.5, 'Weight': 70, 'City': 'Peshawar', 'Religion': \"Muslim\"},\n",
    "boy3 = {'Name': 'Abas', 'Age': 22, 'Hieght': 6.4, 'Weight': 72, 'City': 'Peshawar', 'Religion': \"Muslim\"}\n",
    "\n",
    "# create a dictionary that contain the all three dictionaries\n",
    "boys_detail = {\n",
    "    'boy1' : boy1,\n",
    "    'boy2' : boy2,\n",
    "    'boy3' : boy3,\n",
    "}\n",
    "\n",
    "print(boys_detail)"
   ]
  },
  {
   "cell_type": "markdown",
   "id": "333132b9",
   "metadata": {},
   "source": [
    "## Access Items in Nested Dictionaries"
   ]
  },
  {
   "cell_type": "code",
   "execution_count": 84,
   "id": "615f21fa",
   "metadata": {},
   "outputs": [
    {
     "name": "stdout",
     "output_type": "stream",
     "text": [
      "Ahmad\n"
     ]
    }
   ],
   "source": [
    "# To access items from a nested dictionary, you use the name of the dictionaries, starting with the outer dictionary\n",
    "boys_details = {'boy1' : {'Name': 'Ali', 'Age': 23, 'Hieght': 6.7, 'Weight': 69, 'City': 'Peshawar', 'Religion': \"Muslim\"},\n",
    "              'boy2' : {'Name': 'Ahmad', 'Age': 21, 'Hieght': 6.5, 'Weight': 70, 'City': 'Peshawar', 'Religion': \"Muslim\"},\n",
    "              'boy3' : {'Name': 'Abas', 'Age': 22, 'Hieght': 6.4, 'Weight': 72, 'City': 'Peshawar', 'Religion': \"Muslim\"}}\n",
    "\n",
    "# Acess the boy2 name\n",
    "boy2_name = boys_details['boy2']['Name']\n",
    "print(boy2_name)"
   ]
  }
 ],
 "metadata": {
  "kernelspec": {
   "display_name": "Python 3 (ipykernel)",
   "language": "python",
   "name": "python3"
  },
  "language_info": {
   "codemirror_mode": {
    "name": "ipython",
    "version": 3
   },
   "file_extension": ".py",
   "mimetype": "text/x-python",
   "name": "python",
   "nbconvert_exporter": "python",
   "pygments_lexer": "ipython3",
   "version": "3.11.5"
  }
 },
 "nbformat": 4,
 "nbformat_minor": 5
}
